{
 "cells": [
  {
   "cell_type": "markdown",
   "metadata": {},
   "source": [
    "# ECE 685D, Fall 2020 \n",
    "## Problem Set 3\n",
    "\n",
    "## Full name: Vinayak Gupta\n"
   ]
  },
  {
   "cell_type": "markdown",
   "metadata": {},
   "source": [
    "### Problem 3: Binary Classification with Generalized Linear Models"
   ]
  },
  {
   "cell_type": "code",
   "execution_count": 1,
   "metadata": {},
   "outputs": [],
   "source": [
    "# import packages \n",
    "import pandas as pd \n",
    "from sklearn.model_selection import train_test_split\n",
    "import torch\n",
    "import torch.nn.functional as F\n",
    "import torch.nn as nn\n",
    "import matplotlib.pyplot as plt\n",
    "import numpy as np\n",
    "import seaborn as sns"
   ]
  },
  {
   "cell_type": "code",
   "execution_count": 2,
   "metadata": {},
   "outputs": [],
   "source": [
    "# \"\"\" data preparation \"\"\"\n",
    "\n",
    "# read csv file \n",
    "df = pd.read_csv('breast_cancer.csv')  # df denotes a data frame \n",
    "\n",
    "# # extract the 'diagnosis' column as your targets \n",
    "targets = df['diagnosis']\n",
    "# convert the entries of targets to 0/1\n",
    "mapping = {'M': 0, 'B': 1}\n",
    "targets=targets.replace(mapping)\n",
    "\n",
    "# the output is a new targets array containing only 0 and 1 \n",
    "  \n",
    "    \n",
    "# extract your features data\n",
    "data = torch.FloatTensor(df.iloc[:,2:].values)\n",
    "\n",
    "# # train/test split \n",
    "\n",
    "X_train, X_test, y_train, y_test = train_test_split(data, targets, test_size=0.3, random_state=40)\n"
   ]
  },
  {
   "cell_type": "markdown",
   "metadata": {},
   "source": [
    "#### Problem 3.1\n",
    "* #### __Important :__  You are not allowed to use built-in LDA functions from the sklearn package. "
   ]
  },
  {
   "cell_type": "code",
   "execution_count": 3,
   "metadata": {},
   "outputs": [],
   "source": [
    "# enter your solution to problem 3.1 here\n",
    "X_train_0=X_train[y_train.values==0]\n",
    "X_train_1=X_train[y_train.values==1]\n",
    "\n",
    "mu_0 = X_train_0.mean(axis=0)\n",
    "mu_1 = X_train_1.mean(axis=0)\n",
    "\n",
    "pi_1 = y_train.values.mean()\n",
    "pi_0 = 1-pi_1\n",
    "\n",
    "sigma = (torch.mm((X_train_0 - mu_0).T, X_train_0 - mu_0) + torch.mm((X_train_1 - mu_1).T, X_train_1 - mu_1))/len(X_train)\n",
    "sigma_inv = torch.inverse(sigma)"
   ]
  },
  {
   "cell_type": "code",
   "execution_count": 4,
   "metadata": {},
   "outputs": [],
   "source": [
    "w = torch.mm(sigma_inv, (mu_1-mu_0).view(12,1))\n",
    "w_1 =np.log(pi_1/pi_0) -0.5* torch.mm(mu_1.view(1,12),torch.mm(sigma_inv, mu_1.view(12,1))) + 0.5* torch.mm(mu_0.view(1,12),torch.mm(sigma_inv, mu_0.view(12,1)))"
   ]
  },
  {
   "cell_type": "code",
   "execution_count": 5,
   "metadata": {},
   "outputs": [
    {
     "name": "stdout",
     "output_type": "stream",
     "text": [
      "Classification accuracy on training data:  92.46231155778895\n",
      "Classification accuracy on test data:  95.32163742690058\n"
     ]
    }
   ],
   "source": [
    "y_pred_train = torch.matmul(X_train,w)+w_1\n",
    "y_pred_train= (y_pred_train>0).type(torch.uint8)\n",
    "y_train=torch.LongTensor(y_train.values)\n",
    "Y_check =y_train.view(len(X_train),1)\n",
    "correct = (y_pred_train== Y_check).type(torch.uint8) \n",
    "\n",
    "print(\"Classification accuracy on training data: \" , torch.sum(correct).item() *100/ len(correct))\n",
    "\n",
    "pred_test = torch.matmul(X_test,w)+w_1\n",
    "pred_test= (pred_test>0).type(torch.uint8)\n",
    "y_test=torch.LongTensor(y_test.values)\n",
    "Y_check_test =y_test.view(len(X_test),1)\n",
    "correct = (pred_test== Y_check_test).type(torch.uint8)\n",
    "\n",
    "print(\"Classification accuracy on test data: \" , torch.sum(correct).item() *100/ len(correct))"
   ]
  },
  {
   "cell_type": "markdown",
   "metadata": {},
   "source": [
    "#### Problem 3.2"
   ]
  },
  {
   "cell_type": "code",
   "execution_count": 6,
   "metadata": {},
   "outputs": [],
   "source": [
    "# enter your solution to problem 3.2 here\n",
    "class LogisticRegression(torch.nn.Module):\n",
    "    def __init__(self, input_size, output_size):\n",
    "        super(LogisticRegression, self).__init__()\n",
    "        self.linear = nn.Linear(input_size, output_size)\n",
    "\n",
    "    def forward( self, x):\n",
    "        outputs = self.linear(x)\n",
    "        return outputs"
   ]
  },
  {
   "cell_type": "code",
   "execution_count": 7,
   "metadata": {},
   "outputs": [],
   "source": [
    "norm_mean = X_train.mean(axis=0)\n",
    "norm_std = X_train.std(axis=0)\n",
    "\n",
    "X_train = (X_train-norm_mean)/norm_std\n",
    "X_test = (X_test - norm_mean)/norm_std"
   ]
  },
  {
   "cell_type": "code",
   "execution_count": 8,
   "metadata": {},
   "outputs": [],
   "source": [
    "model = LogisticRegression(12,2)\n",
    "criterion =  nn.CrossEntropyLoss()\n",
    "optimizer = torch.optim.SGD(model.parameters(), lr = 0.1)\n",
    "epoch_size = 200"
   ]
  },
  {
   "cell_type": "code",
   "execution_count": 9,
   "metadata": {},
   "outputs": [],
   "source": [
    "loss_train=[]\n",
    "loss_test=[]\n",
    "accuracy_train=[]\n",
    "accuracy_test=[]\n",
    "model.train()\n",
    "for epoch in range(epoch_size): \n",
    "    \n",
    "    optimizer.zero_grad()    # Forward pass\n",
    "    y_pred_train = model(X_train)    # Compute Loss\n",
    "    loss = criterion(y_pred_train.squeeze(), y_train)\n",
    "    loss_train.append(loss.item())\n",
    "    correct = (y_pred_train.argmax(1) == y_train)\n",
    "    accuracy_train.append(torch.sum(correct).item() *100/ len(correct))\n",
    "    #print('Test loss after Training' , after_train.item())\n",
    "    #print('Epoch {}: train loss: {}'.format(epoch, loss.item()))    # Backward pass\n",
    "    \n",
    "    model.eval()\n",
    "    y_pred_test = model(X_test)\n",
    "    after_train = criterion(y_pred_test.squeeze(), y_test) \n",
    "    loss_test.append(after_train.item())\n",
    "    correct = (y_pred_test.argmax(1) == y_test)\n",
    "    accuracy_test.append(torch.sum(correct).item()*100 / len(correct))\n",
    "    model.train()\n",
    "    loss.backward()\n",
    "    optimizer.step()"
   ]
  },
  {
   "cell_type": "code",
   "execution_count": 10,
   "metadata": {},
   "outputs": [
    {
     "data": {
      "image/png": "[encoded data removed]",
      "text/plain": [
       "<Figure size 1080x360 with 2 Axes>"
      ]
     },
     "metadata": {
      "needs_background": "light"
     },
     "output_type": "display_data"
    }
   ],
   "source": [
    "# Plot for cross entropy\n",
    "epochs=[i for i in range(1,epoch_size+1)]\n",
    "fig= plt.figure()\n",
    "fig.set_figheight(5)\n",
    "fig.set_figwidth(15)\n",
    "ax1= fig.add_subplot(121)\n",
    "ax1.plot(epochs,loss_train)\n",
    "ax1.set_xlabel('Epochs', fontsize=10)\n",
    "ax1.set_ylabel('Training cross entropy loss', fontsize=10)\n",
    "ax2= fig.add_subplot(122)\n",
    "ax2.plot(epochs,loss_test)\n",
    "ax2.set_xlabel('Epochs', fontsize=10)\n",
    "ax2.set_ylabel('Test cross entropy loss', fontsize=10)\n",
    "plt.show()"
   ]
  },
  {
   "cell_type": "code",
   "execution_count": 11,
   "metadata": {},
   "outputs": [
    {
     "data": {
      "image/png": "[encoded data removed]",
      "text/plain": [
       "<Figure size 1080x360 with 2 Axes>"
      ]
     },
     "metadata": {
      "needs_background": "light"
     },
     "output_type": "display_data"
    }
   ],
   "source": [
    "# Plot for accuracy\n",
    "fig= plt.figure()\n",
    "fig.set_figheight(5)\n",
    "fig.set_figwidth(15)\n",
    "ax1= fig.add_subplot(121)\n",
    "ax1.plot(epochs,accuracy_train)\n",
    "ax1.set_xlabel('Epochs', fontsize=10)\n",
    "ax1.set_ylabel('Training accuracy', fontsize=10)\n",
    "ax2= fig.add_subplot(122)\n",
    "ax2.plot(epochs,accuracy_test)\n",
    "ax2.set_xlabel('Epochs', fontsize=10)\n",
    "ax2.set_ylabel('Test accuracy', fontsize=10)\n",
    "plt.show()"
   ]
  },
  {
   "cell_type": "code",
   "execution_count": 12,
   "metadata": {},
   "outputs": [
    {
     "name": "stdout",
     "output_type": "stream",
     "text": [
      "Classification accuracy on training data:  92.96482412060301\n",
      "Classification accuracy on test data:  94.73684210526316\n"
     ]
    }
   ],
   "source": [
    "print(\"Classification accuracy on training data: \" , accuracy_train[-1])\n",
    "print(\"Classification accuracy on test data: \" , accuracy_test[-1])"
   ]
  },
  {
   "cell_type": "markdown",
   "metadata": {},
   "source": [
    "### Problem 4: Binary Classification with Neural Networks"
   ]
  },
  {
   "cell_type": "markdown",
   "metadata": {},
   "source": [
    "#### Problem 4.2"
   ]
  },
  {
   "cell_type": "code",
   "execution_count": 61,
   "metadata": {},
   "outputs": [],
   "source": [
    "# enter your solution to problem 4.2 here\n",
    "N=2\n",
    "M=16\n",
    "df=pd.read_csv('breast_cancer.csv')"
   ]
  },
  {
   "cell_type": "code",
   "execution_count": 62,
   "metadata": {},
   "outputs": [],
   "source": [
    "#Pre process Data\n",
    "targets = df['diagnosis']\n",
    "mapping = {'M': 0, 'B': 1}\n",
    "targets=targets.replace(mapping)\n",
    "data = torch.FloatTensor(df.iloc[:,2:].values)\n",
    "X_train, X_test, y_train, y_test = train_test_split(data, targets, test_size=0.3, random_state=40)\n",
    "y_train=torch.LongTensor(y_train.values)\n",
    "y_test=torch.LongTensor(y_test.values)"
   ]
  },
  {
   "cell_type": "code",
   "execution_count": 63,
   "metadata": {},
   "outputs": [],
   "source": [
    "norm_mean = X_train.mean(axis=0)\n",
    "norm_std = X_train.std(axis=0)\n",
    "\n",
    "X_train = (X_train-norm_mean)/norm_std\n",
    "X_test = (X_test - norm_mean)/norm_std"
   ]
  },
  {
   "cell_type": "markdown",
   "metadata": {},
   "source": [
    "**4.2 A**"
   ]
  },
  {
   "cell_type": "code",
   "execution_count": 16,
   "metadata": {},
   "outputs": [],
   "source": [
    "# Initialize a NN for 4.2 a\n",
    "input_size = 12\n",
    "hidden_sizes = [M, M]\n",
    "output_size = 2# Build a feed-forward network\n",
    "model = nn.Sequential(nn.Linear(input_size, hidden_sizes[0]),\n",
    "                      nn.ReLU(),\n",
    "                      nn.Linear(hidden_sizes[0], hidden_sizes[1]),\n",
    "                      nn.ReLU(),\n",
    "                      nn.Linear(hidden_sizes[1], output_size),\n",
    "                      nn.LogSoftmax(dim=1))\n",
    "criterion = nn.NLLLoss()\n",
    "optimizer = torch.optim.SGD(model.parameters(), lr = 1e-2)"
   ]
  },
  {
   "cell_type": "code",
   "execution_count": 17,
   "metadata": {},
   "outputs": [],
   "source": [
    "# Train and evaluate\n",
    "epoch_size = 1000\n",
    "loss_train=[]\n",
    "loss_test=[]\n",
    "accuracy_train=[]\n",
    "accuracy_test=[]\n",
    "model.train()\n",
    "for epoch in range(epoch_size): \n",
    "    \n",
    "    optimizer.zero_grad()    # Forward pass\n",
    "    y_pred_train = model(X_train)    # Compute Loss\n",
    "    loss = criterion(y_pred_train.squeeze(), y_train)\n",
    "    loss_train.append(loss.item())\n",
    "    correct = (y_pred_train.argmax(1) == y_train)\n",
    "    accuracy_train.append(torch.sum(correct).item() *100/ len(correct))\n",
    "    #print('Test loss after Training' , after_train.item())\n",
    "    #print('Epoch {}: train loss: {}'.format(epoch, loss.item()))    # Backward pass\n",
    "    \n",
    "    model.eval()\n",
    "    y_pred_test = model(X_test)\n",
    "    after_train = criterion(y_pred_test.squeeze(), y_test) \n",
    "    loss_test.append(after_train.item())\n",
    "    correct = (y_pred_test.argmax(1) == y_test)\n",
    "    accuracy_test.append(torch.sum(correct).item()*100 / len(correct))\n",
    "    model.train()\n",
    "    loss.backward()\n",
    "    optimizer.step()"
   ]
  },
  {
   "cell_type": "code",
   "execution_count": 18,
   "metadata": {},
   "outputs": [
    {
     "data": {
      "image/png": "[encoded data removed]",
      "text/plain": [
       "<Figure size 1080x360 with 2 Axes>"
      ]
     },
     "metadata": {
      "needs_background": "light"
     },
     "output_type": "display_data"
    }
   ],
   "source": [
    "# Plot for cross entropy\n",
    "epochs=[i for i in range(1,epoch_size+1)]\n",
    "fig= plt.figure()\n",
    "fig.set_figheight(5)\n",
    "fig.set_figwidth(15)\n",
    "ax1= fig.add_subplot(121)\n",
    "ax1.plot(epochs,loss_train)\n",
    "ax1.set_xlabel('Epochs', fontsize=10)\n",
    "ax1.set_ylabel('Training cross entropy loss', fontsize=10)\n",
    "ax2= fig.add_subplot(122)\n",
    "ax2.plot(epochs,loss_test)\n",
    "ax2.set_xlabel('Epochs', fontsize=10)\n",
    "ax2.set_ylabel('Test cross entropy loss', fontsize=10)\n",
    "plt.show()"
   ]
  },
  {
   "cell_type": "code",
   "execution_count": 19,
   "metadata": {},
   "outputs": [
    {
     "data": {
      "image/png": "[encoded data removed]",
      "text/plain": [
       "<Figure size 1080x360 with 2 Axes>"
      ]
     },
     "metadata": {
      "needs_background": "light"
     },
     "output_type": "display_data"
    }
   ],
   "source": [
    "# Plot for accuracy\n",
    "fig= plt.figure()\n",
    "fig.set_figheight(5)\n",
    "fig.set_figwidth(15)\n",
    "ax1= fig.add_subplot(121)\n",
    "ax1.plot(epochs,accuracy_train)\n",
    "ax1.set_xlabel('Epochs', fontsize=10)\n",
    "ax1.set_ylabel('Training accuracy', fontsize=10)\n",
    "ax2= fig.add_subplot(122)\n",
    "ax2.plot(epochs,accuracy_test)\n",
    "ax2.set_xlabel('Epochs', fontsize=10)\n",
    "ax2.set_ylabel('Test accuracy', fontsize=10)\n",
    "plt.show()"
   ]
  },
  {
   "cell_type": "code",
   "execution_count": 20,
   "metadata": {},
   "outputs": [
    {
     "name": "stdout",
     "output_type": "stream",
     "text": [
      "Classification accuracy on training data:  93.71859296482413\n",
      "Classification accuracy on test data:  94.15204678362574\n"
     ]
    }
   ],
   "source": [
    "print(\"Classification accuracy on training data: \" , accuracy_train[-1])\n",
    "print(\"Classification accuracy on test data: \" , accuracy_test[-1])"
   ]
  },
  {
   "cell_type": "markdown",
   "metadata": {},
   "source": [
    "**4.2 B**"
   ]
  },
  {
   "cell_type": "code",
   "execution_count": 21,
   "metadata": {},
   "outputs": [],
   "source": [
    "# Initialzie for 4.2 b\n",
    "N=[i for i in range(1,9)]*7\n",
    "M=[]\n",
    "for j in range(1,8):\n",
    "    val= 2**j\n",
    "    for i in range(1,9):\n",
    "        M.append(val)\n",
    "\n",
    "accuracy_test =[]\n",
    "frob_norm=[]"
   ]
  },
  {
   "cell_type": "code",
   "execution_count": 22,
   "metadata": {},
   "outputs": [],
   "source": [
    "# Define a class for variable number of hidden layers in NN\n",
    "class Feedforward(torch.nn.Module):\n",
    "        def __init__(self, input_size, hidden_layers, layer_size, output_size):\n",
    "            super(Feedforward, self).__init__()\n",
    "            self.layers = nn.ModuleList()\n",
    "            self.layers.append(nn.Linear(input_size, layer_size))   \n",
    "            for i in range(1, hidden_layers):\n",
    "                self.layers.append(nn.Linear(layer_size, layer_size))\n",
    "           \n",
    "            self.out= nn.Linear(layer_size, output_size)\n",
    "        \n",
    "            \n",
    "            \n",
    "        def forward(self, x):\n",
    "            for layer in self.layers:\n",
    "                x = F.relu(layer(x))\n",
    "            output= F.log_softmax(self.out(x), dim=1)\n",
    "\n",
    "            return output"
   ]
  },
  {
   "cell_type": "code",
   "execution_count": 23,
   "metadata": {},
   "outputs": [],
   "source": [
    "# Train and evaluate\n",
    "\n",
    "for idxn,n in enumerate(N):\n",
    "    \n",
    "    model = Feedforward(12, n,M[idxn],2)\n",
    "    criterion = nn.NLLLoss()\n",
    "    optimizer = torch.optim.SGD(model.parameters(), lr = 1e-2)\n",
    "    epoch_size = 400\n",
    "    model.train()\n",
    "    for epoch in range(epoch_size): \n",
    "\n",
    "        optimizer.zero_grad()    # Forward pass\n",
    "        y_pred_train = model(X_train)    # Compute Loss\n",
    "        loss = criterion(y_pred_train.squeeze(), y_train)\n",
    "        #accuracy_train.append(torch.sum(correct).item() *100/ len(correct))\n",
    "        #print('Test loss after Training' , after_train.item())\n",
    "        #print('Epoch {}: train loss: {}'.format(epoch, loss.item()))    # Backward pass\n",
    "        loss.backward()\n",
    "        optimizer.step()\n",
    "    model.eval()\n",
    "    y_pred_test = model(X_test)\n",
    "    correct = (y_pred_test.argmax(1) == y_test)\n",
    "    accuracy_test.append(torch.sum(correct).item()*100 / len(correct))\n",
    "    frob_norm.append(np.linalg.norm(model.layers[0].weight.grad.numpy(),ord='fro'))\n",
    "        "
   ]
  },
  {
   "cell_type": "code",
   "execution_count": 24,
   "metadata": {},
   "outputs": [
    {
     "data": {
      "image/png": "[encoded data removed]",
      "text/plain": [
       "<Figure size 1440x720 with 2 Axes>"
      ]
     },
     "metadata": {
      "needs_background": "light"
     },
     "output_type": "display_data"
    }
   ],
   "source": [
    "fig= plt.figure()\n",
    "fig.set_figheight(10)\n",
    "fig.set_figwidth(20)\n",
    "accuracyplot = pd.DataFrame({'Number of layers': N, 'Number of nodes': M, 'Accuracy': accuracy_test})\n",
    "accuracyplot_pivoted = accuracyplot.pivot(\"Number of layers\", \"Number of nodes\", \"Accuracy\")\n",
    "ax = sns.heatmap(accuracyplot_pivoted,cmap = \"Spectral\")\n",
    "plt.title(\"Test Classification Accuracy\")\n",
    "plt.show()\n"
   ]
  },
  {
   "cell_type": "markdown",
   "metadata": {},
   "source": [
    "**As the number of layer increases the accuracy starts decreasing.**\n",
    "\n",
    "**As the number of nodes in the hidden layer increase, the accuracy increases somewhat**\n",
    "\n",
    "**It can also be seen with higher number of nodes in layer, it takes more amount of layers to have reduction in accuracy**"
   ]
  },
  {
   "cell_type": "code",
   "execution_count": 25,
   "metadata": {},
   "outputs": [
    {
     "data": {
      "image/png": "[encoded data removed]",
      "text/plain": [
       "<Figure size 1440x720 with 2 Axes>"
      ]
     },
     "metadata": {
      "needs_background": "light"
     },
     "output_type": "display_data"
    }
   ],
   "source": [
    "fig= plt.figure()\n",
    "fig.set_figheight(10)\n",
    "fig.set_figwidth(20)\n",
    "accuracyplot = pd.DataFrame({'Number of layers': N, 'Number of nodes': M, 'Frobenius Norm': frob_norm})\n",
    "accuracyplot_pivoted = accuracyplot.pivot(\"Number of layers\", \"Number of nodes\", \"Frobenius Norm\")\n",
    "ax = sns.heatmap(accuracyplot_pivoted,cmap = \"Spectral\")\n",
    "plt.title(\"Frobenium norm of gradients of layer connecting input to first hidden layer\")\n",
    "plt.show()"
   ]
  },
  {
   "cell_type": "markdown",
   "metadata": {},
   "source": [
    "**It is definitely the case that no matter how many nodes in hidden layer we use, as the number of layers increase, the magnitude of gradient w.r.t weights connecting the input layer to first hidden layer decreases.**\n",
    "\n",
    "**As the number of nodes in hidden layer increases (keeping N low and constant), we see that the magnitude of gradient also decreases though it varies a bit and trend is not strong)**\n",
    "\n",
    "**The magnitude of gradient with higher number of nodes decreases more slowly as compared to those with fewer number of nodes**"
   ]
  },
  {
   "cell_type": "markdown",
   "metadata": {},
   "source": [
    "#### Problem 4.3\n",
    "* #### __Important :__  Here, you are not allowed to use the Optim package. "
   ]
  },
  {
   "cell_type": "code",
   "execution_count": 26,
   "metadata": {},
   "outputs": [],
   "source": [
    "def sigmoid_activation(z):\n",
    "    cache = z\n",
    "    #print(\"SIGMOID\",cache)\n",
    "    return 1/(1+torch.exp(-z)), cache"
   ]
  },
  {
   "cell_type": "code",
   "execution_count": 27,
   "metadata": {},
   "outputs": [],
   "source": [
    "def sigmoid_diff(Z):\n",
    "    s = 1/(1+torch.exp(-Z))\n",
    "    dZ =  s * (1-s)\n",
    "    return dZ"
   ]
  },
  {
   "cell_type": "code",
   "execution_count": 28,
   "metadata": {},
   "outputs": [],
   "source": [
    "def relu_activation(z):\n",
    "#    print(z.shape)\n",
    "    cache=z\n",
    "    z=torch.FloatTensor([[max(0,z[i][j]) for j in range(len(z[0]))] for i in range(len(z))])\n",
    "  #  print(\"RELU\",cache)\n",
    "    return z,cache"
   ]
  },
  {
   "cell_type": "code",
   "execution_count": 58,
   "metadata": {},
   "outputs": [],
   "source": [
    "def initialize_parameters_deep(layer_dims):   \n",
    "    parameters = {}\n",
    "    L = len(layer_dims)            \n",
    "   \n",
    "    for l in range(1, L):\n",
    "       \n",
    "        parameters['W' + str(l)] = torch.randn(layer_dims[l], layer_dims[l-1]) * 0.01\n",
    "        parameters['b' + str(l)] = torch.zeros((layer_dims[l], 1))\n",
    "\n",
    "    return parameters"
   ]
  },
  {
   "cell_type": "code",
   "execution_count": 30,
   "metadata": {},
   "outputs": [],
   "source": [
    "def linear_forward(A, W, b):\n",
    "#     print(A.shape)\n",
    "#     print(W.shape)\n",
    "#     print(b.shape)\n",
    "#    print(torch.matmul(W,A))\n",
    "#     print(A.type())\n",
    "#     print(W.type())\n",
    "    Z = torch.matmul(W,A)+b\n",
    "#    print(Z)\n",
    "    cache = (A, W, b)\n",
    "  #  print(\"Linear\",cache)\n",
    "    return Z, cache"
   ]
  },
  {
   "cell_type": "code",
   "execution_count": 31,
   "metadata": {},
   "outputs": [],
   "source": [
    "def linear_activation_forward(A_prev, W, b,L):\n",
    "   \n",
    "    Z, linear_cache = linear_forward(A_prev, W, b)\n",
    "   \n",
    "    if(L==3):\n",
    "       # print(Z)\n",
    "        A, activation_cache = sigmoid_activation(Z)\n",
    "    else:\n",
    "        A, activation_cache = relu_activation(Z)\n",
    "   \n",
    "    cache = (linear_cache, activation_cache)\n",
    "   \n",
    "    return A, cache"
   ]
  },
  {
   "cell_type": "code",
   "execution_count": 32,
   "metadata": {},
   "outputs": [],
   "source": [
    "def L_model_forward(X, parameters):\n",
    "    caches = []\n",
    "    A = X\n",
    "    L = len(parameters) // 2                \n",
    "    \n",
    "    #print(L)\n",
    "    for l in range(1, L+1):\n",
    "        A_prev = A \n",
    "        A, cache = linear_activation_forward(A_prev,parameters['W' + str(l)] , parameters['b' + str(l)],l)\n",
    "       # print(\"LAYER\",l)\n",
    "        #print(cache)\n",
    "        caches.append(cache)\n",
    "\n",
    "            \n",
    "    return A,caches"
   ]
  },
  {
   "cell_type": "code",
   "execution_count": 33,
   "metadata": {},
   "outputs": [],
   "source": [
    "def compute_cost(A,Y):\n",
    "    m=Y.shape[1]\n",
    "#     print(m)\n",
    "#     print(A)\n",
    "#     print(Y)\n",
    "    cost=-(1/m)*(np.dot(Y,torch.log(A).numpy().T)+np.dot(1-Y,torch.log(1-A).numpy().T))\n",
    "    cost=np.squeeze(cost)\n",
    "    return torch.FloatTensor(cost)"
   ]
  },
  {
   "cell_type": "code",
   "execution_count": 34,
   "metadata": {},
   "outputs": [],
   "source": [
    "def linear_backward(dZ, cache):\n",
    "\n",
    "    A_prev, W, b = cache\n",
    "    m=A_prev.shape[1]\n",
    "#     print(dZ.shape)\n",
    "#     print(dZ.type())\n",
    "#     print(A_prev.T.shape)\n",
    "#     print(A_prev.T.type())\n",
    "    dW = (1/m)*(torch.mm(dZ,A_prev.T))\n",
    "    db = (1/m)*(torch.mm(dZ,torch.ones((dZ.shape[1],1))))\n",
    "    dA_prev =torch.mm(W.T,dZ)\n",
    "\n",
    "    return dA_prev, dW, db"
   ]
  },
  {
   "cell_type": "code",
   "execution_count": 35,
   "metadata": {},
   "outputs": [],
   "source": [
    "def sigmoid_activation_backward(dA, cache):\n",
    "    \n",
    "    linear_cache, activation_cache = cache\n",
    "\n",
    "\n",
    "    dZ = dA*sigmoid_diff(activation_cache)\n",
    "#     print(sigmoid_diff(activation_cache).type())\n",
    "#     print(dA.type())\n",
    "#     print(dZ.type())\n",
    "    dA_prev, dW, db = linear_backward(dZ, linear_cache)\n",
    "     \n",
    "    return dA_prev, dW, db\n"
   ]
  },
  {
   "cell_type": "code",
   "execution_count": 36,
   "metadata": {},
   "outputs": [],
   "source": [
    "def relu_diff(Z):\n",
    "    Z =[[0 if Z[i][j]==0 else 1 for j in range(len(Z[0]))] for i in range(len(Z))]\n",
    "    return torch.FloatTensor(Z)"
   ]
  },
  {
   "cell_type": "code",
   "execution_count": 37,
   "metadata": {},
   "outputs": [],
   "source": [
    "def linear_activation_backward(dA, cache):\n",
    "    \n",
    "    linear_cache, activation_cache = cache\n",
    "\n",
    "\n",
    "    dZ = dA*relu_diff(activation_cache)\n",
    "#     print(sigmoid_diff(activation_cache).type())\n",
    "#     print(dA.type())\n",
    "#     print(dZ.type())\n",
    "    dA_prev, dW, db = linear_backward(dZ, linear_cache)\n",
    "     \n",
    "    return dA_prev, dW, db\n"
   ]
  },
  {
   "cell_type": "code",
   "execution_count": 38,
   "metadata": {},
   "outputs": [],
   "source": [
    "def L_model_backward(AL, Y, caches):\n",
    "   \n",
    "    grads = {}\n",
    "    L = len(caches) # the number of layers\n",
    "    m = AL.shape[1]\n",
    "    Y = torch.FloatTensor(Y.reshape(AL.shape))\n",
    "    # after this line, Y is the same shape as AL\n",
    "   # print(AL)\n",
    "    dAL = torch.FloatTensor(- (Y/AL) + (1 - Y)/ (1 - AL))\n",
    "   # print(dAL)\n",
    "    current_cache = caches[L-1]\n",
    "    grads[\"dA\" + str(L-1)], grads[\"dW\" + str(L)], grads[\"db\" + str(L)] = sigmoid_activation_backward(dAL, current_cache)   \n",
    "#     print(grads['dA2'].shape)\n",
    "#     print(grads['dW3'].shape)\n",
    "#     print(grads['db3'].shape)\n",
    "    for l in reversed(range(L-1)):\n",
    "\n",
    "        current_cache = caches[l]\n",
    "        dA_prev_temp, dW_temp, db_temp = linear_activation_backward(grads[\"dA\" + str(l + 1)], current_cache)\n",
    "        grads[\"dA\" + str(l)] = dA_prev_temp\n",
    "        grads[\"dW\" + str(l + 1)] = dW_temp\n",
    "        grads[\"db\" + str(l + 1)] = db_temp\n",
    "\n",
    "    return grads"
   ]
  },
  {
   "cell_type": "code",
   "execution_count": 39,
   "metadata": {},
   "outputs": [],
   "source": [
    "def update_parameters(parameters, grads, learning_rate):\n",
    "    \n",
    "    L = len(parameters) // 2 \n",
    "\n",
    "    for l in range(L):\n",
    "        parameters[\"W\" + str(l+1)] = parameters[\"W\" + str(l+1)]-(learning_rate*grads[\"dW\" + str(l + 1)])\n",
    "        parameters[\"b\" + str(l+1)] = parameters[\"b\" + str(l+1)]-(learning_rate*grads[\"db\" + str(l + 1)])\n",
    "\n",
    "    return parameters"
   ]
  },
  {
   "cell_type": "code",
   "execution_count": 40,
   "metadata": {},
   "outputs": [],
   "source": [
    "def predict(X, y, parameters):\n",
    "\n",
    "    \n",
    "    m = X.shape[1]\n",
    "    n = len(parameters) \n",
    "    p = np.zeros((1,m))\n",
    "    \n",
    " \n",
    "    probas, caches = L_model_forward(X, parameters)\n",
    "\n",
    " \n",
    "    for i in range(0, probas.shape[1]):\n",
    "        if probas[0,i] > 0.5:\n",
    "            p[0,i] = 1\n",
    "        else:\n",
    "            p[0,i] = 0\n",
    "    \n",
    " \n",
    "    #print(\"Accuracy: \"  + str(np.sum((p == y)/m)))\n",
    "        \n",
    "    return np.sum((p == y)/m)"
   ]
  },
  {
   "cell_type": "code",
   "execution_count": 41,
   "metadata": {},
   "outputs": [],
   "source": [
    "def L_layer_model(X_train, Y_train,X_test,Y_test, layers_dims,learning_rate = 1 ,num_iterations=100):\n",
    "    \n",
    "\n",
    "    costs_train = []\n",
    "    accuracy_train=[]\n",
    "    accuracy_test=[]\n",
    "    costs_test=[]\n",
    "    parameters = initialize_parameters_deep(layers_dims)\n",
    "    \n",
    "\n",
    "    for i in range(0, num_iterations):\n",
    "  \n",
    "     \n",
    "        AL, caches = L_model_forward(X_train, parameters)\n",
    " \n",
    "\n",
    "        cost = compute_cost(AL, Y_train)\n",
    "        costs_train.append(cost)\n",
    "        #print(cost)\n",
    "        accuracy_train.append(predict(X_train,Y_train,parameters))\n",
    "        accuracy_test.append(predict(X_test,Y_test,parameters))\n",
    "        a_test,temp= L_model_forward(X_test, parameters)\n",
    "        cost = compute_cost(a_test, Y_test)\n",
    "        costs_test.append(cost)\n",
    "#         print(AL)\n",
    "#         print(Y)\n",
    "        \n",
    "        grads = L_model_backward(AL, Y_train, caches)\n",
    "\n",
    "        #print(grads)\n",
    "        parameters = update_parameters(parameters, grads, learning_rate)\n",
    "        \n",
    "\n",
    "    return parameters,costs_train,accuracy_train,accuracy_test,costs_test"
   ]
  },
  {
   "cell_type": "code",
   "execution_count": 64,
   "metadata": {},
   "outputs": [],
   "source": [
    "layers_dims = [12]\n",
    "d=2\n",
    "for j in range(d):\n",
    "    layers_dims.append(16)\n",
    "layers_dims.append(1)"
   ]
  },
  {
   "cell_type": "code",
   "execution_count": 65,
   "metadata": {},
   "outputs": [],
   "source": [
    "y_train_cus=np.array([[i] for i in y_train])\n",
    "y_test_cus=np.array([[i] for i in y_test])"
   ]
  },
  {
   "cell_type": "code",
   "execution_count": 66,
   "metadata": {},
   "outputs": [],
   "source": [
    "parameters,costs,accuracy_train,accuracy_test,costs_test=L_layer_model(X_train.T, y_train_cus.T,X_test.T,y_test_cus.T , layers_dims)"
   ]
  },
  {
   "cell_type": "code",
   "execution_count": 67,
   "metadata": {},
   "outputs": [
    {
     "data": {
      "image/png": "[encoded data removed]",
      "text/plain": [
       "<Figure size 1080x360 with 2 Axes>"
      ]
     },
     "metadata": {
      "needs_background": "light"
     },
     "output_type": "display_data"
    }
   ],
   "source": [
    "epochs=[i for i in range(1,101)]\n",
    "fig= plt.figure()\n",
    "fig.set_figheight(5)\n",
    "fig.set_figwidth(15)\n",
    "ax1= fig.add_subplot(121)\n",
    "ax1.plot(epochs,costs)\n",
    "ax1.set_xlabel('Epochs', fontsize=10)\n",
    "ax1.set_ylabel('Training cross entropy loss', fontsize=10)\n",
    "ax2= fig.add_subplot(122)\n",
    "ax2.plot(epochs,costs_test)\n",
    "ax2.set_xlabel('Epochs', fontsize=10)\n",
    "ax2.set_ylabel('Test cross entropy loss', fontsize=10)\n",
    "plt.show()"
   ]
  },
  {
   "cell_type": "code",
   "execution_count": 68,
   "metadata": {},
   "outputs": [
    {
     "data": {
      "image/png": "[encoded data removed]",
      "text/plain": [
       "<Figure size 1080x360 with 2 Axes>"
      ]
     },
     "metadata": {
      "needs_background": "light"
     },
     "output_type": "display_data"
    }
   ],
   "source": [
    "fig= plt.figure()\n",
    "fig.set_figheight(5)\n",
    "fig.set_figwidth(15)\n",
    "ax1= fig.add_subplot(121)\n",
    "ax1.plot(epochs,np.array(accuracy_train)*100)\n",
    "ax1.set_xlabel('Epochs', fontsize=10)\n",
    "ax1.set_ylabel('Training accuracy', fontsize=10)\n",
    "ax2= fig.add_subplot(122)\n",
    "ax2.plot(epochs,np.array(accuracy_test)*100)\n",
    "ax2.set_xlabel('Epochs', fontsize=10)\n",
    "ax2.set_ylabel('Test accuracy', fontsize=10)\n",
    "plt.show()"
   ]
  },
  {
   "cell_type": "code",
   "execution_count": 69,
   "metadata": {},
   "outputs": [
    {
     "name": "stdout",
     "output_type": "stream",
     "text": [
      "Classification accuracy on training data:  93.21608040201006\n",
      "Classification accuracy on test data:  95.32163742690058\n"
     ]
    }
   ],
   "source": [
    "print(\"Classification accuracy on training data: \" , accuracy_train[-1]*100)\n",
    "print(\"Classification accuracy on test data: \" , accuracy_test[-1]*100)"
   ]
  },
  {
   "cell_type": "markdown",
   "metadata": {},
   "source": [
    "**I am using gradient descent instead of stochastic gradient descent so the convergence is slower. To speed up, I am using a higher learning rate of 1 with 100 iterations**"
   ]
  },
  {
   "cell_type": "markdown",
   "metadata": {},
   "source": [
    "### Problem 5: First order optimization methods"
   ]
  },
  {
   "cell_type": "code",
   "execution_count": 2,
   "metadata": {},
   "outputs": [
    {
     "data": {
      "text/plain": [
       "'\\nThe data features can be extracted as train_dataset/test_dataset.data\\nThe labels can be extracted as train_dataset/test_dataset.targets \\nNote that the data are 28x28 images which you will have to transform to vectors.  \\n'"
      ]
     },
     "execution_count": 2,
     "metadata": {},
     "output_type": "execute_result"
    }
   ],
   "source": [
    "import torch\n",
    "import torchvision.datasets as dsets\n",
    "import torchvision.transforms as transforms\n",
    "\n",
    "\n",
    "\n",
    "# Download and prepare the MNIST data set \n",
    "train_dataset = dsets.MNIST(root='./data', train=True, transform=transforms.Compose([transforms.ToTensor(), transforms.Normalize((0.1307,), (0.3081,))]), download=True)\n",
    "test_dataset = dsets.MNIST(root='./data', train=False, transform=transforms.Compose([transforms.ToTensor(), transforms.Normalize((0.1307,), (0.3081,))]))\n",
    "\n",
    "\n",
    "\"\"\"\n",
    "The data features can be extracted as train_dataset/test_dataset.data\n",
    "The labels can be extracted as train_dataset/test_dataset.targets \n",
    "Note that the data are 28x28 images which you will have to transform to vectors.  \n",
    "\"\"\"\n",
    "\n",
    "\n",
    "# enter your solution here"
   ]
  },
  {
   "cell_type": "code",
   "execution_count": 3,
   "metadata": {},
   "outputs": [
    {
     "data": {
      "image/png": "[encoded data removed]",
      "text/plain": [
       "<Figure size 432x288 with 6 Axes>"
      ]
     },
     "metadata": {},
     "output_type": "display_data"
    }
   ],
   "source": [
    "fig = plt.figure()\n",
    "for i in range(6):\n",
    "    plt.subplot(2,3,i+1)\n",
    "    plt.tight_layout()\n",
    "    plt.imshow(test_dataset[i][0].squeeze(), cmap='gray', interpolation='none')\n",
    "    plt.title(\"Ground Truth: {}\".format(test_dataset[i][1]))\n",
    "    plt.xticks([])\n",
    "    plt.yticks([])\n",
    "plt.show()"
   ]
  },
  {
   "cell_type": "code",
   "execution_count": 4,
   "metadata": {},
   "outputs": [],
   "source": [
    "trainloader = torch.utils.data.DataLoader(train_dataset, batch_size=60000, shuffle=True)\n",
    "testloader = torch.utils.data.DataLoader(test_dataset, batch_size=10000, shuffle=True)\n",
    "\n",
    "dataiter = iter(trainloader)\n",
    "X_train, y_train = dataiter.next()\n",
    "X_train=X_train.view(60000,784)\n",
    "\n",
    "dataiter = iter(testloader)\n",
    "X_test, y_test = dataiter.next()\n",
    "X_test=X_test.view(10000,784)"
   ]
  },
  {
   "cell_type": "code",
   "execution_count": 21,
   "metadata": {},
   "outputs": [],
   "source": [
    "class LogisticRegression(torch.nn.Module):\n",
    "    def __init__(self, input_size, output_size):\n",
    "        super(LogisticRegression, self).__init__()\n",
    "        self.linear = nn.Linear(input_size, output_size,bias=True)\n",
    "\n",
    "    def forward( self, x):\n",
    "        outputs = self.linear(x)\n",
    "        return outputs"
   ]
  },
  {
   "cell_type": "markdown",
   "metadata": {},
   "source": [
    "**5.1 Momentum Method with parameter $\\beta = 0.9$**"
   ]
  },
  {
   "cell_type": "code",
   "execution_count": 58,
   "metadata": {},
   "outputs": [],
   "source": [
    "eta = 0.001\n",
    "batches =[1,500,60000]\n",
    "lambda_val = [0.01,.1,1]\n",
    "beta=0.9\n",
    "epochs = [2,100,100]"
   ]
  },
  {
   "cell_type": "code",
   "execution_count": 36,
   "metadata": {},
   "outputs": [
    {
     "name": "stdout",
     "output_type": "stream",
     "text": [
      "Batch Size: 1 ; Lambda: 0.01 ; Accuracy on test: 85.5\n",
      "Batch Size: 1 ; Lambda: 0.1 ; Accuracy on test: 77.34\n",
      "Batch Size: 1 ; Lambda: 1 ; Accuracy on test: 36.13\n",
      "Batch Size: 500 ; Lambda: 0.01 ; Accuracy on test: 92.2\n",
      "Batch Size: 500 ; Lambda: 0.1 ; Accuracy on test: 91.31\n",
      "Batch Size: 500 ; Lambda: 1 ; Accuracy on test: 86.67\n",
      "Batch Size: 60000 ; Lambda: 0.01 ; Accuracy on test: 86.4\n",
      "Batch Size: 60000 ; Lambda: 0.1 ; Accuracy on test: 86.04\n",
      "Batch Size: 60000 ; Lambda: 1 ; Accuracy on test: 86.1\n"
     ]
    }
   ],
   "source": [
    "for idx,batch in enumerate(batches):\n",
    "    for lam in lambda_val:\n",
    "        model = LogisticRegression(784,10)\n",
    "        criterion =  nn.CrossEntropyLoss()\n",
    "        epoch_size = epochs[idx]\n",
    "        Mw = torch.zeros((10,784))\n",
    "        Mb = torch.zeros(10)\n",
    "        for epoch in range(epoch_size):\n",
    "            shuffle = torch.randperm(60000)\n",
    "            for i in range(0,60000, batch):\n",
    "                val=shuffle[i:i+batch]\n",
    "                curr_x =  X_train[val]\n",
    "                curr_y = y_train[val]\n",
    "               # print(curr_y.shape)\n",
    "                \n",
    "                curr_y_pred = model(curr_x)\n",
    "               # print(curr_y_pred.shape)\n",
    "                w = list(model.parameters())[0]\n",
    "                b = list(model.parameters())[1]\n",
    "                loss = criterion(curr_y_pred, curr_y) + lam*(torch.norm(w) + torch.norm(b))\n",
    "                if w.grad is not None:\n",
    "                    w.grad.zero_()\n",
    "                if b.grad is not None:\n",
    "                    b.grad.zero_()\n",
    "                loss.backward()\n",
    "                with torch.no_grad(): \n",
    "                    Mw = beta*Mw + w.grad\n",
    "                    Mb = beta*Mb + b.grad\n",
    "                    w -=  eta * Mw\n",
    "                    b -=  eta * Mb\n",
    "                                    \n",
    "                model.linear.weight.data = w.clone()\n",
    "                model.linear.bias.data = b.clone()\n",
    "                \n",
    "                \n",
    "        y_pred_test = model(X_test)  \n",
    "        correct = (y_pred_test.argmax(1) == y_test)\n",
    "        print(\"Batch Size: \" + str(batch) + \" ; \" +\"Lambda: \" + str(lam)+ \" ; \" + \"Accuracy on test: \" + str(torch.sum(correct).item()*100 / len(correct)))"
   ]
  },
  {
   "cell_type": "markdown",
   "metadata": {},
   "source": [
    "**5.2 Nesterov’s accelerated gradient (NAG) method with parameter $\\beta = 0.95$**"
   ]
  },
  {
   "cell_type": "code",
   "execution_count": 48,
   "metadata": {},
   "outputs": [],
   "source": [
    "beta=0.95"
   ]
  },
  {
   "cell_type": "code",
   "execution_count": 49,
   "metadata": {},
   "outputs": [],
   "source": [
    "def calculatelambda_val(val):\n",
    "    return (1 + (1+ 4 * val*val)**0.5)/2"
   ]
  },
  {
   "cell_type": "code",
   "execution_count": 50,
   "metadata": {},
   "outputs": [
    {
     "name": "stdout",
     "output_type": "stream",
     "text": [
      "Batch Size: 1 ; Lambda: 0.01 ; Accuracy on test: 89.44\n",
      "Batch Size: 1 ; Lambda: 0.1 ; Accuracy on test: 83.04\n",
      "Batch Size: 1 ; Lambda: 1 ; Accuracy on test: 57.15\n",
      "Batch Size: 500 ; Lambda: 0.01 ; Accuracy on test: 87.09\n",
      "Batch Size: 500 ; Lambda: 0.1 ; Accuracy on test: 83.85\n",
      "Batch Size: 500 ; Lambda: 1 ; Accuracy on test: 30.02\n",
      "Batch Size: 60000 ; Lambda: 0.01 ; Accuracy on test: 89.85\n",
      "Batch Size: 60000 ; Lambda: 0.1 ; Accuracy on test: 88.01\n",
      "Batch Size: 60000 ; Lambda: 1 ; Accuracy on test: 36.65\n"
     ]
    }
   ],
   "source": [
    "for idx,batch in enumerate(batches):\n",
    "    for lam in lambda_val:\n",
    "        model = LogisticRegression(784,10)\n",
    "        criterion =  nn.CrossEntropyLoss()\n",
    "        epoch_size = epochs[idx]\n",
    "        t_w = torch.zeros((10,784))\n",
    "        t_b = torch.zeros(10)\n",
    "        lambda_prev =0\n",
    "        for epoch in range(epoch_size):\n",
    "            shuffle = torch.randperm(60000)\n",
    "            lambda_curr = calculatelambda_val(lambda_prev)\n",
    "            gamma = (1- lambda_curr)/calculatelambda_val(lambda_curr)\n",
    "            lambda_prev=lambda_curr\n",
    "            for i in range(0,60000, batch):\n",
    "                val=shuffle[i:i+batch]\n",
    "                curr_x =  X_train[val]\n",
    "                curr_y = y_train[val]\n",
    "               # print(curr_y.shape)\n",
    "                \n",
    "                curr_y_pred = model(curr_x)\n",
    "               # print(curr_y_pred.shape)\n",
    "                w = list(model.parameters())[0]\n",
    "                b = list(model.parameters())[1]\n",
    "                loss = criterion(curr_y_pred, curr_y) + lam*(torch.norm(w) + torch.norm(b))\n",
    "                if w.grad is not None:\n",
    "                    w.grad.zero_()\n",
    "                if b.grad is not None:\n",
    "                    b.grad.zero_()\n",
    "                loss.backward()\n",
    "                with torch.no_grad():\n",
    "                    t_prev_w =t_w\n",
    "                    t_prev_b =t_b\n",
    "                    t_w = w - (1/beta)*w.grad\n",
    "                    t_b = b - (1/beta)*b.grad\n",
    "                    w = (1 - gamma)*t_w + gamma*t_prev_w\n",
    "                    b = (1 - gamma)*t_b + gamma*t_prev_b\n",
    "                    \n",
    "                model.linear.weight.data = w.clone()\n",
    "                model.linear.bias.data = b.clone()\n",
    "                \n",
    "                \n",
    "        y_pred_test = model(X_test)  \n",
    "        correct = (y_pred_test.argmax(1) == y_test)\n",
    "        print(\"Batch Size: \" + str(batch) + \" ; \" +\"Lambda: \" + str(lam)+ \" ; \" + \"Accuracy on test: \" + str(torch.sum(correct).item()*100 / len(correct)))             "
   ]
  },
  {
   "cell_type": "markdown",
   "metadata": {},
   "source": [
    "**5.3  RMSprop with parameters $\\beta = 0.9, \\gamma = 1$ and $\\epsilon = 10^{-8}$**"
   ]
  },
  {
   "cell_type": "code",
   "execution_count": 59,
   "metadata": {},
   "outputs": [],
   "source": [
    "beta = 0.9\n",
    "gamma = 1\n",
    "eps= 10**(-8)"
   ]
  },
  {
   "cell_type": "code",
   "execution_count": 52,
   "metadata": {},
   "outputs": [
    {
     "name": "stdout",
     "output_type": "stream",
     "text": [
      "Batch Size: 1 ; Lambda: 0.01 ; Accuracy on test: 85.37\n",
      "Batch Size: 1 ; Lambda: 0.1 ; Accuracy on test: 81.98\n",
      "Batch Size: 1 ; Lambda: 1 ; Accuracy on test: 66.17\n",
      "Batch Size: 500 ; Lambda: 0.01 ; Accuracy on test: 92.42\n",
      "Batch Size: 500 ; Lambda: 0.1 ; Accuracy on test: 91.03\n",
      "Batch Size: 500 ; Lambda: 1 ; Accuracy on test: 86.42\n",
      "Batch Size: 60000 ; Lambda: 0.01 ; Accuracy on test: 90.99\n",
      "Batch Size: 60000 ; Lambda: 0.1 ; Accuracy on test: 90.54\n",
      "Batch Size: 60000 ; Lambda: 1 ; Accuracy on test: 86.34\n"
     ]
    }
   ],
   "source": [
    "for idx,batch in enumerate(batches):\n",
    "    for lam in lambda_val:\n",
    "        model = LogisticRegression(784,10)\n",
    "        criterion =  nn.CrossEntropyLoss()\n",
    "        epoch_size = epochs[idx]\n",
    "        v_w = torch.zeros((10,784))\n",
    "        v_b = torch.zeros(10)\n",
    "        for epoch in range(epoch_size):\n",
    "            shuffle = torch.randperm(60000)\n",
    "            for i in range(0,60000, batch):\n",
    "                val=shuffle[i:i+batch]\n",
    "                curr_x =  X_train[val]\n",
    "                curr_y = y_train[val]\n",
    "               # print(curr_y.shape)\n",
    "                \n",
    "                curr_y_pred = model(curr_x)\n",
    "               # print(curr_y_pred.shape)\n",
    "                w = list(model.parameters())[0]\n",
    "                b = list(model.parameters())[1]\n",
    "                loss = criterion(curr_y_pred, curr_y) + lam*(torch.norm(w) + torch.norm(b))\n",
    "                if w.grad is not None:\n",
    "                    w.grad.zero_()\n",
    "                if b.grad is not None:\n",
    "                    b.grad.zero_()\n",
    "                loss.backward()\n",
    "                with torch.no_grad(): \n",
    "                    v_w = (1-beta)*v_w + beta*(w.grad**2)\n",
    "                    v_b = (1-beta)*v_b + beta*(b.grad**2)\n",
    "                    precond_w = gamma/ (eps + v_w**0.5)\n",
    "                    precond_b = gamma/ (eps + v_b**0.5)\n",
    "                    w-= eta *precond_w* w.grad\n",
    "                    b-= eta *precond_b* b.grad \n",
    "                    \n",
    "                model.linear.weight.data = w.clone()\n",
    "                model.linear.bias.data = b.clone()\n",
    "                \n",
    "                \n",
    "        y_pred_test = model(X_test)  \n",
    "        correct = (y_pred_test.argmax(1) == y_test)\n",
    "        print(\"Batch Size: \" + str(batch) + \" ; \" +\"Lambda: \" + str(lam)+ \" ; \" + \"Accuracy on test: \" + str(torch.sum(correct).item()*100 / len(correct)))"
   ]
  },
  {
   "cell_type": "markdown",
   "metadata": {},
   "source": [
    "**5.4  Adam with  parameters $\\beta_1 = 0.9, \\beta_2 = 0.999$ and $\\epsilon = 10^{-8}$**"
   ]
  },
  {
   "cell_type": "code",
   "execution_count": 60,
   "metadata": {},
   "outputs": [],
   "source": [
    "beta_1 = 0.9\n",
    "beta_2 = 0.999"
   ]
  },
  {
   "cell_type": "code",
   "execution_count": 64,
   "metadata": {},
   "outputs": [
    {
     "name": "stdout",
     "output_type": "stream",
     "text": [
      "Batch Size: 1 ; Lambda: 0.01 ; Accuracy on test: 90.46\n",
      "Batch Size: 1 ; Lambda: 0.1 ; Accuracy on test: 90.35\n",
      "Batch Size: 1 ; Lambda: 1 ; Accuracy on test: 82.13\n",
      "Batch Size: 500 ; Lambda: 0.01 ; Accuracy on test: 92.64\n",
      "Batch Size: 500 ; Lambda: 0.1 ; Accuracy on test: 91.19\n",
      "Batch Size: 500 ; Lambda: 1 ; Accuracy on test: 86.33\n",
      "Batch Size: 60000 ; Lambda: 0.01 ; Accuracy on test: 90.11\n",
      "Batch Size: 60000 ; Lambda: 0.1 ; Accuracy on test: 90.29\n",
      "Batch Size: 60000 ; Lambda: 1 ; Accuracy on test: 86.35\n"
     ]
    }
   ],
   "source": [
    "for idx,batch in enumerate(batches):\n",
    "    for lam in lambda_val:\n",
    "        model = LogisticRegression(784,10)\n",
    "        criterion =  nn.CrossEntropyLoss()\n",
    "        epoch_size = epochs[idx]\n",
    "        Mw1 = torch.zeros((10,784))\n",
    "        Mw2 = torch.zeros((10,784))\n",
    "        Mb1 = torch.zeros(10)\n",
    "        Mb2 = torch.zeros(10)\n",
    "        for epoch in range(epoch_size):\n",
    "            shuffle = torch.randperm(60000)\n",
    "            for i in range(0,60000, batch):\n",
    "                val=shuffle[i:i+batch]\n",
    "                curr_x =  X_train[val]\n",
    "                curr_y = y_train[val]\n",
    "               # print(curr_y.shape)\n",
    "                \n",
    "                curr_y_pred = model(curr_x)\n",
    "               # print(curr_y_pred.shape)\n",
    "                w = list(model.parameters())[0]\n",
    "                b = list(model.parameters())[1]\n",
    "                loss = criterion(curr_y_pred, curr_y) + lam*(torch.norm(w) + torch.norm(b))\n",
    "                if w.grad is not None:\n",
    "                    w.grad.zero_()\n",
    "                if b.grad is not None:\n",
    "                    b.grad.zero_()\n",
    "                loss.backward()\n",
    "                with torch.no_grad(): \n",
    "                    Mw1 = beta_1*Mw1 + (1-beta_1)*w.grad\n",
    "                    Mb1 = beta_1*Mb1 + (1-beta_1)*b.grad\n",
    "                    Mhatw1 = Mw1*((1 - beta_1**(epoch+1))**(-1))\n",
    "                    Mhatb1 = Mb1*((1 - beta_1**(epoch+1))**(-1))\n",
    "                    \n",
    "                    Mw2 = beta_2*Mw2 + (1-beta_2)*(w.grad**2)\n",
    "                    Mb2 = beta_2*Mb2 + (1-beta_2)*(b.grad**2)\n",
    "                    Mhatw2 = Mw2*((1 - beta_2**(epoch+1))**(-1))\n",
    "                    Mhatb2 = Mb2*((1 - beta_2**(epoch+1))**(-1))\n",
    "                    \n",
    "                    w -=  eta* (Mhatw1 /(eps + Mhatw2**0.5))\n",
    "                    b -=  eta* (Mhatb1 /(eps + Mhatb2**0.5))\n",
    "                 \n",
    "                model.linear.weight.data = w.clone()\n",
    "                model.linear.bias.data = b.clone()\n",
    "                \n",
    "        y_pred_test = model(X_test)  \n",
    "        correct = (y_pred_test.argmax(1) == y_test)\n",
    "        print(\"Batch Size: \" + str(batch) + \" ; \" +\"Lambda: \" + str(lam)+ \" ; \" + \"Accuracy on test: \" + str(torch.sum(correct).item()*100 / len(correct)))              "
   ]
  }
 ],
 "metadata": {
  "kernelspec": {
   "display_name": "Python 3",
   "language": "python",
   "name": "python3"
  },
  "language_info": {
   "codemirror_mode": {
    "name": "ipython",
    "version": 3
   },
   "file_extension": ".py",
   "mimetype": "text/x-python",
   "name": "python",
   "nbconvert_exporter": "python",
   "pygments_lexer": "ipython3",
   "version": "3.7.5"
  }
 },
 "nbformat": 4,
 "nbformat_minor": 4
}
